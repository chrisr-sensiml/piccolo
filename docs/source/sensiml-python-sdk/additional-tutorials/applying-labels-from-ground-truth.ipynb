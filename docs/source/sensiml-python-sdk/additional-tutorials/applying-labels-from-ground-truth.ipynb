{
 "cells": [
  {
   "attachments": {},
   "cell_type": "markdown",
   "id": "e3159b57-c832-493c-8318-9227f230b453",
   "metadata": {},
   "source": [
    "# Apply Ground Truth to Generated Segments\n",
    "\n",
    "In this tutorial you will learn how to apply labels from a ground truth session to labels generated from a segmentation algorithm. In your own workflow, you may generate an autosegmentation algorithm and label all of the segments as Unknown. Then use this workflow to update them with the ground truth values. This makes experimenting with new segmentation algorithms much quicker.\n",
    "\n",
    "## Try It Yourself\n",
    "\n",
    "You can [download the Notebook file here](https://sensiml.com/documentation/_static/file/applying-labels-from-ground-truth.zip) to follow along with this tutorial in your own environment."
   ]
  },
  {
   "attachments": {},
   "cell_type": "markdown",
   "id": "05ba46f9",
   "metadata": {},
   "source": [
    "## Prerequisites\n",
    "\n",
    "* Download the [Demo Project](https://sensiml.com/documentation/_static/file/segment-demo-project.zip) and extract into this folder\n",
    "* To see the visualizations install ipywidgets\n",
    "* Update to the latest SensiML Python SDK"
   ]
  },
  {
   "cell_type": "code",
   "execution_count": null,
   "id": "b46ddc86",
   "metadata": {},
   "outputs": [],
   "source": [
    "!pip install ipywidgets sensiml -U"
   ]
  },
  {
   "attachments": {},
   "cell_type": "markdown",
   "id": "b323748d-8a7a-42ff-a3b9-1c1a829eb9da",
   "metadata": {},
   "source": [
    "## Connecting to a Data Studio project\n",
    "\n",
    "The python SDK can be used to interface directly with a .dclproj file in READ only mode. In this tutorial we will\n",
    "\n",
    "* Load a .DCLPROJ file into the Python SDK using the DCLProject API\n",
    "* Upload a .DCLPROJ file as a new project to the server using the Client\n",
    "* Compare the segments in the \"Training Session\" and \"Predicted\" Session using the confusion_matrix DataSegments API\n",
    "* Visualize the segments against the raw sensor data using the plot_segments API\n",
    "* Update the predicted segments with the closest labels from the \"Ground Truth\" Session\n",
    "* Upload the new predicted segments"
   ]
  },
  {
   "cell_type": "markdown",
   "id": "1bf58560-8389-4351-a5f6-d79159dc3a96",
   "metadata": {},
   "source": [
    "## 1 Load a .DCLPROJ file into the Python SDK using the DCLProject API\n",
    "\n",
    "The DCLProject API provides read-only access to a .DCLPROJ file which is the native database format of a Data Studio project. To load the project "
   ]
  },
  {
   "cell_type": "code",
   "execution_count": 46,
   "id": "1e349762-6a82-44f3-8ebb-8008a784e23c",
   "metadata": {},
   "outputs": [],
   "source": [
    "from sensiml.dclproj import DCLProject\n",
    "\n",
    "DCLP_PROJECT_PATH = \"DemoProject/DemoProject.dclproj\"\n",
    "\n",
    "dcl = DCLProject(path=DCLP_PROJECT_PATH)"
   ]
  },
  {
   "attachments": {},
   "cell_type": "markdown",
   "id": "f8b1cb00-e9ed-4816-9e3d-fe26464e449c",
   "metadata": {},
   "source": [
    "## 2 Upload a .DCLPROJ file using the Python SDK Client\n",
    "\n",
    "You can use the client to upload either a .DCLPROJ or .DCLI file. The .DCLPROJ format is a database format used by the Data Studio."
   ]
  },
  {
   "cell_type": "code",
   "execution_count": null,
   "id": "9455f0a8-0329-42bc-9d23-07fd1b113f85",
   "metadata": {},
   "outputs": [],
   "source": [
    "from sensiml import Client\n",
    "client = Client()\n",
    "\n",
    "client.upload_project(\"Segment Demo Project\", DCLP_PROJECT_PATH)"
   ]
  },
  {
   "attachments": {},
   "cell_type": "markdown",
   "id": "ce4d1f19-5ef5-456c-8b7c-15cd35b0ef4f",
   "metadata": {},
   "source": [
    "## 3 Compare the segments in the \"Training Session\" and \"Predicted Session\"\n",
    "\n",
    "We will use the DCLProject API to get access to the segment information that is stored in the .DCLPROJ database. \n",
    "\n",
    "To see the list of captures in the database use the .list_captures API"
   ]
  },
  {
   "cell_type": "code",
   "execution_count": 21,
   "id": "ad5d53db-a2ae-47a2-98c4-4900f7fc8649",
   "metadata": {},
   "outputs": [
    {
     "data": {
      "text/html": [
       "<div>\n",
       "<style scoped>\n",
       "    .dataframe tbody tr th:only-of-type {\n",
       "        vertical-align: middle;\n",
       "    }\n",
       "\n",
       "    .dataframe tbody tr th {\n",
       "        vertical-align: top;\n",
       "    }\n",
       "\n",
       "    .dataframe thead th {\n",
       "        text-align: right;\n",
       "    }\n",
       "</style>\n",
       "<table border=\"1\" class=\"dataframe\">\n",
       "  <thead>\n",
       "    <tr style=\"text-align: right;\">\n",
       "      <th></th>\n",
       "      <th>uuid</th>\n",
       "      <th>name</th>\n",
       "      <th>file_size</th>\n",
       "      <th>number_samples</th>\n",
       "      <th>set_sample_rate</th>\n",
       "      <th>created_at</th>\n",
       "      <th>local_status</th>\n",
       "      <th>last_modified</th>\n",
       "      <th>capture_configuration</th>\n",
       "      <th>set</th>\n",
       "      <th>Device</th>\n",
       "    </tr>\n",
       "  </thead>\n",
       "  <tbody>\n",
       "    <tr>\n",
       "      <th>0</th>\n",
       "      <td>adb3f19a-cf85-4b9c-b3e5-8bbf393bfb99</td>\n",
       "      <td>File1.csv</td>\n",
       "      <td>124043</td>\n",
       "      <td>3402</td>\n",
       "      <td>119</td>\n",
       "      <td>2023-02-24 00:16:27.740546</td>\n",
       "      <td>Synced</td>\n",
       "      <td>2023-02-24 00:30:28.177732</td>\n",
       "      <td>Nano 33 BLE Sense IMU</td>\n",
       "      <td>train</td>\n",
       "      <td>Nano33 BLE Sense - 127.0.0.1:5555</td>\n",
       "    </tr>\n",
       "  </tbody>\n",
       "</table>\n",
       "</div>"
      ],
      "text/plain": [
       "                                   uuid       name  file_size  number_samples  \\\n",
       "0  adb3f19a-cf85-4b9c-b3e5-8bbf393bfb99  File1.csv     124043            3402   \n",
       "\n",
       "   set_sample_rate                 created_at local_status  \\\n",
       "0              119 2023-02-24 00:16:27.740546       Synced   \n",
       "\n",
       "               last_modified  capture_configuration    set  \\\n",
       "0 2023-02-24 00:30:28.177732  Nano 33 BLE Sense IMU  train   \n",
       "\n",
       "                              Device  \n",
       "0  Nano33 BLE Sense - 127.0.0.1:5555  "
      ]
     },
     "execution_count": 21,
     "metadata": {},
     "output_type": "execute_result"
    }
   ],
   "source": [
    "dcl.list_captures()"
   ]
  },
  {
   "attachments": {},
   "cell_type": "markdown",
   "id": "b68db954-0190-4d7e-a47c-4bcef2bed6fd",
   "metadata": {},
   "source": [
    "To see a list of sessions in the database us the .list_sessions API"
   ]
  },
  {
   "cell_type": "code",
   "execution_count": 22,
   "id": "8b3778f2-e72f-4e36-840a-a58cc442f8e9",
   "metadata": {},
   "outputs": [
    {
     "data": {
      "text/html": [
       "<div>\n",
       "<style scoped>\n",
       "    .dataframe tbody tr th:only-of-type {\n",
       "        vertical-align: middle;\n",
       "    }\n",
       "\n",
       "    .dataframe tbody tr th {\n",
       "        vertical-align: top;\n",
       "    }\n",
       "\n",
       "    .dataframe thead th {\n",
       "        text-align: right;\n",
       "    }\n",
       "</style>\n",
       "<table border=\"1\" class=\"dataframe\">\n",
       "  <thead>\n",
       "    <tr style=\"text-align: right;\">\n",
       "      <th></th>\n",
       "      <th>id</th>\n",
       "      <th>name</th>\n",
       "      <th>parameters</th>\n",
       "      <th>custom</th>\n",
       "      <th>preprocess</th>\n",
       "      <th>created_at</th>\n",
       "      <th>local_status</th>\n",
       "      <th>last_modified</th>\n",
       "    </tr>\n",
       "  </thead>\n",
       "  <tbody>\n",
       "    <tr>\n",
       "      <th>0</th>\n",
       "      <td>1</td>\n",
       "      <td>Training Session</td>\n",
       "      <td>None</td>\n",
       "      <td>1</td>\n",
       "      <td>None</td>\n",
       "      <td>2023-02-24 00:15:18.719975</td>\n",
       "      <td>Synced</td>\n",
       "      <td>2023-02-24 00:28:45.751122</td>\n",
       "    </tr>\n",
       "    <tr>\n",
       "      <th>1</th>\n",
       "      <td>2</td>\n",
       "      <td>Segmentation</td>\n",
       "      <td>{\"inputs\":{\"input_data\":\"\",\"first_column_of_in...</td>\n",
       "      <td>0</td>\n",
       "      <td>{\"0\":{\"name\":\"MagnitudeGxGyGz\",\"actual_name\":\"...</td>\n",
       "      <td>2023-02-24 00:15:19.560820</td>\n",
       "      <td>Synced</td>\n",
       "      <td>2023-02-24 00:29:02.792429</td>\n",
       "    </tr>\n",
       "  </tbody>\n",
       "</table>\n",
       "</div>"
      ],
      "text/plain": [
       "   id              name                                         parameters  \\\n",
       "0   1  Training Session                                               None   \n",
       "1   2      Segmentation  {\"inputs\":{\"input_data\":\"\",\"first_column_of_in...   \n",
       "\n",
       "   custom                                         preprocess  \\\n",
       "0       1                                               None   \n",
       "1       0  {\"0\":{\"name\":\"MagnitudeGxGyGz\",\"actual_name\":\"...   \n",
       "\n",
       "                  created_at local_status              last_modified  \n",
       "0 2023-02-24 00:15:18.719975       Synced 2023-02-24 00:28:45.751122  \n",
       "1 2023-02-24 00:15:19.560820       Synced 2023-02-24 00:29:02.792429  "
      ]
     },
     "execution_count": 22,
     "metadata": {},
     "output_type": "execute_result"
    }
   ],
   "source": [
    "dcl.list_sessions()"
   ]
  },
  {
   "attachments": {},
   "cell_type": "markdown",
   "id": "1b197587-bdea-432b-9096-f6baf1429ee7",
   "metadata": {},
   "source": [
    "select and set the variables for the GROUND_TRUTH_SESSION, PREDICTED_SESSION, and FILENAME from the .dcproj database"
   ]
  },
  {
   "cell_type": "code",
   "execution_count": 28,
   "id": "6e927e1f-a133-429c-ae32-4f3fc6feb8f9",
   "metadata": {},
   "outputs": [],
   "source": [
    "GROUND_TRUTH_SESSION = \"Training Session\"\n",
    "PREDICTED_SESSION = \"Segmentation\"\n",
    "FILENAME=\"File1.csv\""
   ]
  },
  {
   "cell_type": "markdown",
   "id": "da9238af-357c-4afb-a3da-639dd6d25b86",
   "metadata": {},
   "source": [
    "Load the ground truth and predicted segments as DataSegments objects using the get_capture_segments API"
   ]
  },
  {
   "cell_type": "code",
   "execution_count": 29,
   "id": "8f9021cd-5056-4a39-8004-cab4a61d067f",
   "metadata": {},
   "outputs": [
    {
     "data": {
      "text/html": [
       "<div>\n",
       "<style scoped>\n",
       "    .dataframe tbody tr th:only-of-type {\n",
       "        vertical-align: middle;\n",
       "    }\n",
       "\n",
       "    .dataframe tbody tr th {\n",
       "        vertical-align: top;\n",
       "    }\n",
       "\n",
       "    .dataframe thead th {\n",
       "        text-align: right;\n",
       "    }\n",
       "</style>\n",
       "<table border=\"1\" class=\"dataframe\">\n",
       "  <thead>\n",
       "    <tr style=\"text-align: right;\">\n",
       "      <th></th>\n",
       "      <th>label_value</th>\n",
       "      <th>capture</th>\n",
       "      <th>segment_id</th>\n",
       "      <th>capture_sample_sequence_start</th>\n",
       "      <th>capture_sample_sequence_end</th>\n",
       "      <th>session</th>\n",
       "      <th>uuid</th>\n",
       "      <th>segment_length</th>\n",
       "    </tr>\n",
       "  </thead>\n",
       "  <tbody>\n",
       "    <tr>\n",
       "      <th>0</th>\n",
       "      <td>Gesture A</td>\n",
       "      <td>File1.csv</td>\n",
       "      <td>0</td>\n",
       "      <td>305</td>\n",
       "      <td>365</td>\n",
       "      <td>Segmentation</td>\n",
       "      <td>c3b730c0-15f2-4e36-ac23-45c94d35bad3</td>\n",
       "      <td>60</td>\n",
       "    </tr>\n",
       "    <tr>\n",
       "      <th>1</th>\n",
       "      <td>Gesture A</td>\n",
       "      <td>File1.csv</td>\n",
       "      <td>1</td>\n",
       "      <td>434</td>\n",
       "      <td>494</td>\n",
       "      <td>Segmentation</td>\n",
       "      <td>f1c880e4-d276-4409-8983-84db8abd7072</td>\n",
       "      <td>60</td>\n",
       "    </tr>\n",
       "    <tr>\n",
       "      <th>2</th>\n",
       "      <td>Gesture A</td>\n",
       "      <td>File1.csv</td>\n",
       "      <td>2</td>\n",
       "      <td>519</td>\n",
       "      <td>618</td>\n",
       "      <td>Segmentation</td>\n",
       "      <td>ff092a08-823b-4c56-b0dc-5f44776ee48d</td>\n",
       "      <td>99</td>\n",
       "    </tr>\n",
       "    <tr>\n",
       "      <th>3</th>\n",
       "      <td>Gesture A</td>\n",
       "      <td>File1.csv</td>\n",
       "      <td>3</td>\n",
       "      <td>619</td>\n",
       "      <td>679</td>\n",
       "      <td>Segmentation</td>\n",
       "      <td>7a97141f-1497-4932-a1ab-93141ff2c966</td>\n",
       "      <td>60</td>\n",
       "    </tr>\n",
       "    <tr>\n",
       "      <th>4</th>\n",
       "      <td>Gesture A</td>\n",
       "      <td>File1.csv</td>\n",
       "      <td>4</td>\n",
       "      <td>754</td>\n",
       "      <td>816</td>\n",
       "      <td>Segmentation</td>\n",
       "      <td>8c94d231-4851-4575-9c60-ca29851ca4e8</td>\n",
       "      <td>62</td>\n",
       "    </tr>\n",
       "  </tbody>\n",
       "</table>\n",
       "</div>"
      ],
      "text/plain": [
       "  label_value    capture  segment_id  capture_sample_sequence_start  \\\n",
       "0   Gesture A  File1.csv           0                            305   \n",
       "1   Gesture A  File1.csv           1                            434   \n",
       "2   Gesture A  File1.csv           2                            519   \n",
       "3   Gesture A  File1.csv           3                            619   \n",
       "4   Gesture A  File1.csv           4                            754   \n",
       "\n",
       "   capture_sample_sequence_end       session  \\\n",
       "0                          365  Segmentation   \n",
       "1                          494  Segmentation   \n",
       "2                          618  Segmentation   \n",
       "3                          679  Segmentation   \n",
       "4                          816  Segmentation   \n",
       "\n",
       "                                   uuid  segment_length  \n",
       "0  c3b730c0-15f2-4e36-ac23-45c94d35bad3              60  \n",
       "1  f1c880e4-d276-4409-8983-84db8abd7072              60  \n",
       "2  ff092a08-823b-4c56-b0dc-5f44776ee48d              99  \n",
       "3  7a97141f-1497-4932-a1ab-93141ff2c966              60  \n",
       "4  8c94d231-4851-4575-9c60-ca29851ca4e8              62  "
      ]
     },
     "execution_count": 29,
     "metadata": {},
     "output_type": "execute_result"
    }
   ],
   "source": [
    "gt_segs = dcl.get_capture_segments(FILENAME, GROUND_TRUTH_SESSION)\n",
    "pred_segs = dcl.get_capture_segments(FILENAME, PREDICTED_SESSION)\n",
    "pred_segs.head()"
   ]
  },
  {
   "cell_type": "markdown",
   "id": "1f1652f1-a012-4138-b382-49e6c4d70a78",
   "metadata": {},
   "source": [
    "The DataSegments obj has a number of APIs which are very useful for manipulating, visualizing, and comparing segments. To see a comparison between the ground truth segments and the predicted segments use the confusion_matrix API"
   ]
  },
  {
   "cell_type": "code",
   "execution_count": 30,
   "id": "a4ab79d7-5afe-4a01-8c23-f80ccd6655d6",
   "metadata": {},
   "outputs": [
    {
     "name": "stdout",
     "output_type": "stream",
     "text": [
      "\u001b[1;30mPred Session: \n",
      "Model: \n",
      "-----------  ---------  ---------  ---  -------  -------\n",
      "             Gesture A  Gesture B  UNK  Support  Sense %\n",
      "Gesture A            \u001b[1;32m7          \u001b[1;31m0    \u001b[1;31m0        \u001b[1;30m7    \u001b[1;30m100.0\n",
      "Gesture B           \u001b[1;31m10          \u001b[1;32m0    \u001b[1;31m0       \u001b[1;30m10        \u001b[1;30m0\n",
      "UNK                  \u001b[1;31m3          \u001b[1;31m0    \u001b[1;32m0        \u001b[1;30m3        \u001b[1;30m0\n",
      "-----------  ---------  ---------  ---  -------  -------\n",
      "Total               20          0    0       20\n",
      "Pos_Pred(%)       35.0          0    0   Acc(%)     35.0\n",
      "-----------  ---------  ---------  ---  -------  -------\n"
     ]
    },
    {
     "data": {
      "text/plain": []
     },
     "execution_count": 30,
     "metadata": {},
     "output_type": "execute_result"
    }
   ],
   "source": [
    "pred_segs.confusion_matrix(gt_segs)"
   ]
  },
  {
   "cell_type": "markdown",
   "id": "37c4f186-76dc-4d96-a267-603de2492995",
   "metadata": {},
   "source": [
    "## 4 Visualize the segments against the raw sensor data using the plot_segments API\n",
    "\n",
    "The DCLProject plot_segment_labels API can be used to visualize the Session segments overlayed on the raw sensor data. You can also use the DataSegments plot_segments API to plot only the labels directly from a DataSegments object."
   ]
  },
  {
   "cell_type": "code",
   "execution_count": 10,
   "id": "98c97f3b-2b2c-45eb-bc7a-cc32b8d6164d",
   "metadata": {},
   "outputs": [
    {
     "data": {
      "application/vnd.jupyter.widget-view+json": {
       "model_id": "0405c682d16f471ca6bfa3703689d1ee",
       "version_major": 2,
       "version_minor": 0
      },
      "text/plain": [
       "interactive(children=(IntSlider(value=0, description='x_start', max=3402), IntSlider(value=3402, description='…"
      ]
     },
     "metadata": {},
     "output_type": "display_data"
    }
   ],
   "source": [
    "from ipywidgets import widgets\n",
    "interactive_plot=widgets.interact_manual.options(manual_name=\"plot\")\n",
    "\n",
    "\n",
    "capture_length = dcl.get_capture(FILENAME).shape[0]\n",
    "@interactive_plot(x_start=(0, capture_length), window=(1,capture_length))\n",
    "def plot(x_start=0, window=capture_length):\n",
    "    x_max = min(x_start+window, capture_length)\n",
    "    \n",
    "    x_lim = (x_start,x_max)\n",
    "    _ = dcl.plot_segment_labels(FILENAME, PREDICTED_SESSION, xlim=x_lim, figsize=(30,4))\n",
    "    _ = dcl.plot_segment_labels(FILENAME, GROUND_TRUTH_SESSION, xlim=x_lim, figsize=(30,4))"
   ]
  },
  {
   "attachments": {},
   "cell_type": "markdown",
   "id": "0bfac5b9-faaa-4273-9efe-4a3e521f35bb",
   "metadata": {},
   "source": [
    "## 5 Update the predicted segments with the closest labels from the \"Ground Truth\" Session\n",
    "\n",
    "For this project, the Ground Truth was labeled manually and the Predicted comes from a segmentation algorithm. To update the predicted segments with true labels from ground truth labels use the DataSegments nearest_labels API. This API returns a new DataSegments object that has updated label_values. This is used quickly update new segmentation algorithms with the correct ground truth labels without needing to manually set them."
   ]
  },
  {
   "cell_type": "code",
   "execution_count": 49,
   "id": "f2446f90-db9c-4b18-8a80-e86490ca12e8",
   "metadata": {},
   "outputs": [
    {
     "name": "stdout",
     "output_type": "stream",
     "text": [
      "No matching label found for 3 setting to None\n",
      "Updating 8 from Gesture A to Gesture B\n",
      "Updating 9 from Gesture A to Gesture B\n",
      "Updating 10 from Gesture A to Gesture B\n",
      "Updating 11 from Gesture A to Gesture B\n",
      "Updating 12 from Gesture A to Gesture B\n",
      "Updating 13 from Gesture A to Gesture B\n",
      "No matching label found for 14 setting to None\n",
      "Updating 15 from Gesture A to Gesture B\n",
      "Updating 16 from Gesture A to Gesture B\n",
      "Updating 17 from Gesture A to Gesture B\n",
      "Updating 18 from Gesture A to Gesture B\n",
      "No matching label found for 19 setting to None\n",
      "\n",
      "\n",
      "new segment: 20\n",
      "ground truth: 17\n"
     ]
    }
   ],
   "source": [
    "new_segs = pred_segs.nearest_labels(gt_segs, verbose=True)\n",
    "print(f\"\\n\\nnew segment: {len(new_segs)}\")\n",
    "print(f\"ground truth: {len(gt_segs)}\")"
   ]
  },
  {
   "cell_type": "markdown",
   "id": "91d5fcaa-cdce-4dff-8413-a3507c32cbea",
   "metadata": {},
   "source": [
    "Comparing the confusion matrix of the new segments to the ground truth gives 100% Sensitivity for Gesture A and Gesture B. The original predicted session had 0% for Gesture B. The Predicted session 20 segments and the ground truth has 17. The difference can be seen in the UNK row of the confusion matrix that has 3 in the Unknown column."
   ]
  },
  {
   "cell_type": "code",
   "execution_count": 45,
   "id": "050950c5-f842-4363-9a30-32996684e09c",
   "metadata": {},
   "outputs": [
    {
     "name": "stdout",
     "output_type": "stream",
     "text": [
      "\u001b[1;30mPred Session: \n",
      "Model: \n",
      "-----------  ---------  ---------  -------  ---  -------  -------\n",
      "             Gesture A  Gesture B  Unknown  UNK  Support  Sense %\n",
      "Gesture A            \u001b[1;32m7          \u001b[1;31m0        \u001b[1;31m0    \u001b[1;31m0        \u001b[1;30m7    \u001b[1;30m100.0\n",
      "Gesture B            \u001b[1;31m0         \u001b[1;32m10        \u001b[1;31m0    \u001b[1;31m0       \u001b[1;30m10    \u001b[1;30m100.0\n",
      "Unknown              \u001b[1;31m0          \u001b[1;31m0        \u001b[1;32m0    \u001b[1;31m0        \u001b[1;30m0        \u001b[1;30m0\n",
      "UNK                  \u001b[1;31m0          \u001b[1;31m0        \u001b[1;31m3    \u001b[1;32m0        \u001b[1;30m3        \u001b[1;30m0\n",
      "-----------  ---------  ---------  -------  ---  -------  -------\n",
      "Total                7         10        3    0       20\n",
      "Pos_Pred(%)      100.0      100.0        0    0   Acc(%)     85.0\n",
      "-----------  ---------  ---------  -------  ---  -------  -------\n"
     ]
    },
    {
     "data": {
      "text/plain": []
     },
     "execution_count": 45,
     "metadata": {},
     "output_type": "execute_result"
    }
   ],
   "source": [
    "new_segs.confusion_matrix(gt_segs)"
   ]
  },
  {
   "cell_type": "markdown",
   "id": "8fc2b6df-146a-4638-acac-05ca40114bc0",
   "metadata": {},
   "source": [
    "Use the DataSegments plot_segments API to plot only the labels directly from a DataSegments object."
   ]
  },
  {
   "cell_type": "code",
   "execution_count": 15,
   "id": "1fe12cda-4204-480b-bde6-8adb516d5228",
   "metadata": {},
   "outputs": [
    {
     "data": {
      "application/vnd.jupyter.widget-view+json": {
       "model_id": "e1e3f6573ec8457cacebc5991d8b1f9a",
       "version_major": 2,
       "version_minor": 0
      },
      "text/plain": [
       "interactive(children=(IntSlider(value=0, description='x_start', max=2653), IntSlider(value=2653, description='…"
      ]
     },
     "metadata": {},
     "output_type": "display_data"
    }
   ],
   "source": [
    "@interactive_plot(x_start=(0, new_segs[-1].end), window=(1,new_segs[-1].end))\n",
    "def plot(x_start=0, window=new_segs[-1].end):\n",
    "    x_max = min(x_start+window, capture_length)\n",
    "    if x_max > capture_length:\n",
    "        x_max=capture_length\n",
    "    \n",
    "    x_lim = (x_start,x_max)\n",
    "    new_segs.plot_segments(figsize=(30,4), xlim=x_lim)\n",
    "    gt_segs.plot_segments(figsize=(30,4), xlim=x_lim, labels=new_segs.label_values)"
   ]
  },
  {
   "attachments": {},
   "cell_type": "markdown",
   "id": "d456b9a0-677a-4871-951e-2c796330413f",
   "metadata": {},
   "source": [
    "## 6 Upload the new predicted segments\n",
    "\n",
    "The DataSegments objects upload API can be used to directly upload segments. Use this to update the Predicted Session with the correct label values.\n",
    "\n",
    "NOTE: The Python SDK DCLProject API is READ-ONLY so the .DCLPROJ database will not be updated. To update the .DCLPROJ database with the updated labels open the Data Studio and refresh."
   ]
  },
  {
   "cell_type": "code",
   "execution_count": null,
   "id": "5431d9a1-358c-487f-bbbe-822083d71eca",
   "metadata": {},
   "outputs": [],
   "source": [
    "new_datasegments.upload(client, 'Unknown')"
   ]
  },
  {
   "cell_type": "markdown",
   "id": "13c5cb27-74df-47bb-abdb-016fb73be841",
   "metadata": {},
   "source": [
    "Another option is to export the segments into the .dcli format and import them into the Data Studio. The .dcli file format is an open format for versioning datasets. See the documentation for more information."
   ]
  },
  {
   "cell_type": "code",
   "execution_count": 11,
   "id": "fbe07a48-2fe8-412d-a6e8-67f44cd6e504",
   "metadata": {},
   "outputs": [
    {
     "name": "stdout",
     "output_type": "stream",
     "text": [
      "writing dcli file to SensiML Session.dcli\n"
     ]
    }
   ],
   "source": [
    "dcli = new_datasegments.to_dcli(filename=f'{PREDICTED_SESSION}.dcli', session='Test Upload')"
   ]
  },
  {
   "attachments": {},
   "cell_type": "markdown",
   "id": "1a17f75c",
   "metadata": {},
   "source": [
    "For a project with multiple files you can use the below code to update all of the segments across multiple files"
   ]
  },
  {
   "cell_type": "code",
   "execution_count": null,
   "id": "3d9b07f4",
   "metadata": {},
   "outputs": [],
   "source": [
    "from sensiml.dclproj import DataSegments\n",
    "\n",
    "new_datasegments = DataSegments()\n",
    "filenames = dcl.list_capture_segments(sessions=[GROUND_TRUTH_SESSION]).capture.unique().tolist()\n",
    "for filename in filenames:\n",
    "    gt_segs = dcl.get_capture_segments(filename, GROUND_TRUTH_SESSION)\n",
    "    pred_segs = dcl.get_capture_segments(filename, PREDICTED_SESSION).nearest_labels(gt_segs, verbose=False)\n",
    "    new_datasegments += pred_segs\n",
    "    \n",
    "new_datasegments.upload(client, 'Unknown')"
   ]
  },
  {
   "cell_type": "markdown",
   "id": "2a6e9206-9db6-43cc-9779-9ef409073bf0",
   "metadata": {},
   "source": [
    "This concludes the tutorial for using the DCLProject and DataSegments APIs to explore and manipulate segment objects programmatically using the Python SDK. "
   ]
  }
 ],
 "metadata": {
  "kernelspec": {
   "display_name": "sphinx-docs",
   "language": "python",
   "name": "python3"
  },
  "language_info": {
   "codemirror_mode": {
    "name": "ipython",
    "version": 3
   },
   "file_extension": ".py",
   "mimetype": "text/x-python",
   "name": "python",
   "nbconvert_exporter": "python",
   "pygments_lexer": "ipython3",
   "version": "3.9.10"
  },
  "vscode": {
   "interpreter": {
    "hash": "2f8a1f954238f995acf54431e32d87fffb6ba630bf95cc71e00232888127510a"
   }
  }
 },
 "nbformat": 4,
 "nbformat_minor": 5
}
