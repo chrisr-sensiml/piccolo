{
 "cells": [
  {
   "cell_type": "markdown",
   "metadata": {},
   "source": [
    "# Loading a Trained Neuron Array\n",
    "\n",
    "In this tutorial we will demonstrate how to load a neuron array directly into the pipeline in order to create pipelines based off of pre-trained models"
   ]
  },
  {
   "cell_type": "markdown",
   "metadata": {},
   "source": [
    "## Try It Yourself\n",
    "\n",
    "You can [download the Notebook file here](https://sensiml.com/documentation/_static/file/loading-a-trained-neuron-array.zip) to follow along with this tutorial in your own environment."
   ]
  },
  {
   "cell_type": "code",
   "execution_count": 6,
   "metadata": {},
   "outputs": [],
   "source": [
    "import pandas as pd\n",
    "from sensiml import SensiML\n",
    "\n",
    "client = SensiML()\n",
    "client.project ='Activity Case Study'\n",
    "client.pipeline = 'Activity_Pipeline'"
   ]
  },
  {
   "cell_type": "code",
   "execution_count": 7,
   "metadata": {},
   "outputs": [
    {
     "name": "stdout",
     "output_type": "stream",
     "text": [
      "Uploading file \"activity_data.csv\" to SensiML Cloud.\n"
     ]
    },
    {
     "data": {
      "text/html": [
       "<div>\n",
       "<style scoped>\n",
       "    .dataframe tbody tr th:only-of-type {\n",
       "        vertical-align: middle;\n",
       "    }\n",
       "\n",
       "    .dataframe tbody tr th {\n",
       "        vertical-align: top;\n",
       "    }\n",
       "\n",
       "    .dataframe thead th {\n",
       "        text-align: right;\n",
       "    }\n",
       "</style>\n",
       "<table border=\"1\" class=\"dataframe\">\n",
       "  <thead>\n",
       "    <tr style=\"text-align: right;\">\n",
       "      <th></th>\n",
       "      <th>Subject</th>\n",
       "      <th>Activity</th>\n",
       "      <th>AccelerometerX</th>\n",
       "      <th>AccelerometerY</th>\n",
       "      <th>AccelerometerZ</th>\n",
       "    </tr>\n",
       "  </thead>\n",
       "  <tbody>\n",
       "    <tr>\n",
       "      <th>0</th>\n",
       "      <td>1</td>\n",
       "      <td>0</td>\n",
       "      <td>-317</td>\n",
       "      <td>-3000</td>\n",
       "      <td>925</td>\n",
       "    </tr>\n",
       "    <tr>\n",
       "      <th>1</th>\n",
       "      <td>1</td>\n",
       "      <td>0</td>\n",
       "      <td>-284</td>\n",
       "      <td>-2968</td>\n",
       "      <td>903</td>\n",
       "    </tr>\n",
       "    <tr>\n",
       "      <th>2</th>\n",
       "      <td>1</td>\n",
       "      <td>0</td>\n",
       "      <td>-243</td>\n",
       "      <td>-2987</td>\n",
       "      <td>933</td>\n",
       "    </tr>\n",
       "    <tr>\n",
       "      <th>3</th>\n",
       "      <td>1</td>\n",
       "      <td>0</td>\n",
       "      <td>-193</td>\n",
       "      <td>-3051</td>\n",
       "      <td>936</td>\n",
       "    </tr>\n",
       "    <tr>\n",
       "      <th>4</th>\n",
       "      <td>1</td>\n",
       "      <td>0</td>\n",
       "      <td>-150</td>\n",
       "      <td>-3059</td>\n",
       "      <td>915</td>\n",
       "    </tr>\n",
       "  </tbody>\n",
       "</table>\n",
       "</div>"
      ],
      "text/plain": [
       "   Subject  Activity  AccelerometerX  AccelerometerY  AccelerometerZ\n",
       "0        1         0            -317           -3000             925\n",
       "1        1         0            -284           -2968             903\n",
       "2        1         0            -243           -2987             933\n",
       "3        1         0            -193           -3051             936\n",
       "4        1         0            -150           -3059             915"
      ]
     },
     "execution_count": 7,
     "metadata": {},
     "output_type": "execute_result"
    }
   ],
   "source": [
    "sensor_columns = client.project.columns()\n",
    "df = pd.read_csv('data/activity_data_medium.csv')\n",
    "df['Subject'] = df['Subject'].apply(lambda x: int(x[1:]))\n",
    "\n",
    "client.upload_dataframe('activity_data.csv', df)\n",
    "df.head()"
   ]
  },
  {
   "cell_type": "markdown",
   "metadata": {},
   "source": [
    "**Neuron Array Format**\n",
    "\n",
    "The following is the format of a neuron array for a trained model."
   ]
  },
  {
   "cell_type": "code",
   "execution_count": 8,
   "metadata": {},
   "outputs": [],
   "source": [
    "neuron_array = [{u'AIF': 1,\n",
    "              u'Category': 2,\n",
    "              u'Context': 1,\n",
    "              u'Identifier': 1,\n",
    "              u'Vector': [0, 0, 0, 0, 0, 124, 0, 0]},\n",
    "              {u'AIF': 1,\n",
    "              u'Category': 2,\n",
    "              u'Context': 1,\n",
    "              u'Identifier': 2,\n",
    "              u'Vector': [166, 31, 172, 138, 93, 31, 254, 35]},\n",
    "              {u'AIF': 143,\n",
    "              u'Category': 3,\n",
    "              u'Context': 1,\n",
    "              u'Identifier': 3,\n",
    "              u'Vector': [246, 232, 243, 68, 241, 156, 72, 16]},\n",
    "              {u'AIF': 1,\n",
    "              u'Category': 3,\n",
    "              u'Context': 1,\n",
    "              u'Identifier': 4,\n",
    "              u'Vector': [134, 171, 163, 42, 167, 114, 19, 254]},\n",
    "              {u'AIF': 349,\n",
    "              u'Category': 4,\n",
    "              u'Context': 1,\n",
    "              u'Identifier': 5,\n",
    "              u'Vector': [118, 165, 147, 184, 156, 191, 2, 0]},\n",
    "              {u'AIF': 449,\n",
    "              u'Category': 1,\n",
    "              u'Context': 1,\n",
    "              u'Identifier': 6,\n",
    "              u'Vector': [97, 78, 107, 43, 92, 106, 56, 4]},\n",
    "              {u'AIF': 354,\n",
    "              u'Category': 4,\n",
    "              u'Context': 1,\n",
    "              u'Identifier': 7,\n",
    "              u'Vector': [131, 184, 165, 53, 174, 128, 2, 3]}]"
   ]
  },
  {
   "cell_type": "markdown",
   "metadata": {},
   "source": [
    "**Create a Pipeline**\n",
    "\n",
    "Create a simple pipeline. "
   ]
  },
  {
   "cell_type": "code",
   "execution_count": 9,
   "metadata": {},
   "outputs": [],
   "source": [
    "client.pipeline.reset()\n",
    "client.pipeline.set_columns(data_columns=['AccelerometerY'], group_columns=['Activity','Subject'], label_column='Activity')\n",
    "\n",
    "client.pipeline.set_input_data('activity_data.csv', data_columns=['AccelerometerY'])\n",
    "\n",
    "\n",
    "client.pipeline.add_transform('Windowing')\n",
    "\n",
    "client.pipeline.add_feature_generator([\"Mean\", 'Standard Deviation', 'Skewness', 'Kurtosis',\n",
    "                                    '25th Percentile', '75th Percentile', '100th Percentile',\n",
    "                                    'Zero Crossing Rate'],\n",
    "                                    function_defaults = {\"columns\":[u'AccelerometerY']})\n",
    "\n",
    "client.pipeline.add_transform('Min Max Scale')"
   ]
  },
  {
   "cell_type": "markdown",
   "metadata": {},
   "source": [
    "**Load the Neuron Array**\n",
    "\n",
    "Here we will use the training algorithm \"Load Neuron Array\" which will load the neurons directly into the hardware simulator and run the cross-fold validation on the model. Note: No training occurs here, we are simply using the provided neurons."
   ]
  },
  {
   "cell_type": "code",
   "execution_count": 10,
   "metadata": {},
   "outputs": [],
   "source": [
    "client.pipeline.set_training_algorithm('Load Neuron Array', params = {'neuron_array':neuron_array})\n",
    "\n",
    "client.pipeline.set_validation_method('Stratified K-Fold Cross-Validation', params={'number_of_folds':5})\n",
    "\n",
    "client.pipeline.set_classifier('PME', params={\"classification_mode\":'RBF','distance_mode':'L1'})\n",
    "\n",
    "client.pipeline.set_tvo()"
   ]
  },
  {
   "cell_type": "code",
   "execution_count": 11,
   "metadata": {
    "scrolled": false
   },
   "outputs": [
    {
     "name": "stdout",
     "output_type": "stream",
     "text": [
      "Executing Pipeline with Steps:\n",
      "\n",
      "------------------------------------------------------------------------\n",
      " 0.     Name: activity_data.csv         \t\tType: featurefile              \n",
      "------------------------------------------------------------------------\n",
      "------------------------------------------------------------------------\n",
      " 1.     Name: Windowing                 \t\tType: segmenter                \n",
      "------------------------------------------------------------------------\n",
      "------------------------------------------------------------------------\n",
      " 2.     Name: generator_set             \t\tType: generatorset             \n",
      "------------------------------------------------------------------------\n",
      "------------------------------------------------------------------------\n",
      " 3.     Name: Min Max Scale             \t\tType: transform                \n",
      "------------------------------------------------------------------------\n",
      "------------------------------------------------------------------------\n",
      " 4.     Name: tvo                       \t\tType: tvo                      \n",
      "------------------------------------------------------------------------\n",
      "\tClassifier: PME\n",
      "\t\tclassification_mode: RBF\n",
      "\t\tdistance_mode: L1\n",
      "\t\tmax_aif: 400\n",
      "\t\tmin_aif: 25\n",
      "\t\tnum_channels: 1\n",
      "\t\treinforcement_learning: False\n",
      "\t\treserved_patterns: 0\n",
      "\n",
      "\tTraining Algo: Load Neuron Array\n",
      "\t\tclass_map: {}\n",
      "\t\tneuron_array: [{'AIF': 1, 'Category': 2, 'Context': 1, 'Identifier': 1, 'Vector': [0, 0, 0, 0, 0, 124, 0, 0]}, {'AIF': 1, 'Category': 2, 'Context': 1, 'Identifier': 2, 'Vector': [166, 31, 172, 138, 93, 31, 254, 35]}, {'AIF': 143, 'Category': 3, 'Context': 1, 'Identifier': 3, 'Vector': [246, 232, 243, 68, 241, 156, 72, 16]}, {'AIF': 1, 'Category': 3, 'Context': 1, 'Identifier': 4, 'Vector': [134, 171, 163, 42, 167, 114, 19, 254]}, {'AIF': 349, 'Category': 4, 'Context': 1, 'Identifier': 5, 'Vector': [118, 165, 147, 184, 156, 191, 2, 0]}, {'AIF': 449, 'Category': 1, 'Context': 1, 'Identifier': 6, 'Vector': [97, 78, 107, 43, 92, 106, 56, 4]}, {'AIF': 354, 'Category': 4, 'Context': 1, 'Identifier': 7, 'Vector': [131, 184, 165, 53, 174, 128, 2, 3]}]\n",
      "\n",
      "\tValidation Method: Stratified K-Fold Cross-Validation\n",
      "\t\tnumber_of_folds: 5\n",
      "\t\tshuffle: True\n",
      "\t\ttest_size: 0.0\n",
      "\n",
      "------------------------------------------------------------------------\n",
      "\n",
      "\n",
      "\n",
      "Results Retrieved... Execution Time: 0 min. 15 sec.\n"
     ]
    }
   ],
   "source": [
    "results, stats = client.pipeline.execute()"
   ]
  },
  {
   "cell_type": "code",
   "execution_count": 12,
   "metadata": {},
   "outputs": [
    {
     "name": "stdout",
     "output_type": "stream",
     "text": [
      "TRAINING ALGORITHM: Load Neuron Array\n",
      "VALIDATION METHOD:  Stratified K-Fold Cross-Validation\n",
      "CLASSIFIER:         PME\n",
      "\n",
      "AVERAGE METRICS:\n",
      "                 F1_SCORE:  13.8  std: 1.60\n",
      "                PRECISION:  28.5  std: 11.54\n",
      "              SENSITIVITY:  25.6  std: 0.67\n",
      "\n",
      "--------------------------------------\n",
      "\n",
      "STRATIFIED K-FOLD CROSS-VALIDATION MODEL RESULTS : SET VALIDATION\n",
      "\n",
      "MODEL INDEX: Fold 1\n",
      "                 F1_SCORE:    train: 13.20  validation: 16.37  \n",
      "              SENSITIVITY:    train: 25.33  validation: 26.75  \n",
      "\n",
      "MODEL INDEX: Fold 3\n",
      "                 F1_SCORE:    train: 13.90  validation: 13.65  \n",
      "              SENSITIVITY:    train: 25.66  validation: 25.44  \n",
      "\n",
      "MODEL INDEX: Fold 4\n",
      "                 F1_SCORE:    train: 13.87  validation: 13.80  \n",
      "              SENSITIVITY:    train: 25.66  validation: 25.44  \n",
      "\n",
      "MODEL INDEX: Fold 0\n",
      "                 F1_SCORE:    train: 13.96  validation: 13.42  \n",
      "              SENSITIVITY:    train: 25.66  validation: 25.43  \n",
      "\n",
      "MODEL INDEX: Fold 2\n",
      "                 F1_SCORE:    train: 14.33  validation: 11.96  \n",
      "              SENSITIVITY:    train: 25.76  validation: 25.00  \n",
      "\n"
     ]
    }
   ],
   "source": [
    "results.summarize()"
   ]
  }
 ],
 "metadata": {
  "anaconda-cloud": {},
  "kernelspec": {
   "display_name": "Python 3",
   "language": "python",
   "name": "python3"
  },
  "language_info": {
   "codemirror_mode": {
    "name": "ipython",
    "version": 3
   },
   "file_extension": ".py",
   "mimetype": "text/x-python",
   "name": "python",
   "nbconvert_exporter": "python",
   "pygments_lexer": "ipython3",
   "version": "3.7.0"
  },
  "toc": {
   "base_numbering": 1,
   "nav_menu": {},
   "number_sections": true,
   "sideBar": true,
   "skip_h1_title": false,
   "title_cell": "Table of Contents",
   "title_sidebar": "Contents",
   "toc_cell": false,
   "toc_position": {},
   "toc_section_display": true,
   "toc_window_display": true
  }
 },
 "nbformat": 4,
 "nbformat_minor": 1
}
